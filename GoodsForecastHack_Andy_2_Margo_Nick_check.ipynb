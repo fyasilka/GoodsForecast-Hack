{
 "cells": [
  {
   "cell_type": "markdown",
   "metadata": {},
   "source": [
    "# Модель CatBoostClassifier"
   ]
  },
  {
   "cell_type": "code",
   "execution_count": 1,
   "metadata": {
    "tags": []
   },
   "outputs": [],
   "source": [
    "import datetime\n",
    "import pyodbc\n",
    "import pandas as pd\n",
    "import numpy as np\n",
    "import matplotlib.pyplot as plt\n",
    "\n",
    "import warnings\n",
    "warnings.filterwarnings(\"ignore\")"
   ]
  },
  {
   "cell_type": "code",
   "execution_count": 2,
   "metadata": {
    "tags": []
   },
   "outputs": [],
   "source": [
    "df = pd.read_csv('../datasets/data.csv')"
   ]
  },
  {
   "cell_type": "code",
   "execution_count": 3,
   "metadata": {
    "tags": []
   },
   "outputs": [],
   "source": [
    "df.drop(['Unnamed: 0', 'Probability', 'Column9', 'Column10', 'Column26', 'Column66',\n",
    "#нулевые\n",
    "'Column59','Column58','Column60','Column61','Column63','Column65','Column64',\n",
    "#полностью 1\n",
    "'Column62',\n",
    "#дубликаты 53\n",
    "'Column54','Column55','Column56','Column57'\n",
    "], axis=1, inplace=True)"
   ]
  },
  {
   "cell_type": "code",
   "execution_count": 4,
   "metadata": {
    "tags": []
   },
   "outputs": [],
   "source": [
    "def check_missings(df: pd.DataFrame) -> pd.DataFrame:\n",
    "    \"\"\"\n",
    "    Функция для вычисления среднего и общего числа пропусков.\n",
    "\n",
    "    Parameters\n",
    "    ----------\n",
    "    df: pandas.core.DataFrame\n",
    "        Набор данных для вычисления статистики.\n",
    "\n",
    "    Returns\n",
    "    -------\n",
    "    result: pandas.core.DataFrame\n",
    "        Датафрейм со статистикой распределения пропусков.\n",
    "\n",
    "    \"\"\"\n",
    "    na = df.isnull().sum()\n",
    "    result = pd.DataFrame({\n",
    "        \"Total (всего пропусков)\": na,\n",
    "        \"Percent (процент пропусков)\": round(100*na/df.shape[0], 3),\n",
    "        \"Types (тип данных)\": df.dtypes\n",
    "    })\n",
    "    result = result[result[\"Total (всего пропусков)\"] != 0]\n",
    "    print(f\"Total NA-values (всего пропусков) = {na.sum()}\")\n",
    "    return result.T"
   ]
  },
  {
   "cell_type": "code",
   "execution_count": 5,
   "metadata": {
    "tags": []
   },
   "outputs": [
    {
     "name": "stdout",
     "output_type": "stream",
     "text": [
      "Total NA-values (всего пропусков) = 580264\n"
     ]
    },
    {
     "data": {
      "text/html": [
       "<div>\n",
       "<style scoped>\n",
       "    .dataframe tbody tr th:only-of-type {\n",
       "        vertical-align: middle;\n",
       "    }\n",
       "\n",
       "    .dataframe tbody tr th {\n",
       "        vertical-align: top;\n",
       "    }\n",
       "\n",
       "    .dataframe thead th {\n",
       "        text-align: right;\n",
       "    }\n",
       "</style>\n",
       "<table border=\"1\" class=\"dataframe\">\n",
       "  <thead>\n",
       "    <tr style=\"text-align: right;\">\n",
       "      <th></th>\n",
       "      <th>IsCorrect</th>\n",
       "      <th>Column8</th>\n",
       "      <th>Column13</th>\n",
       "      <th>Column14</th>\n",
       "      <th>Column15</th>\n",
       "      <th>Column16</th>\n",
       "      <th>Column17</th>\n",
       "      <th>Column18</th>\n",
       "      <th>Column20</th>\n",
       "      <th>Column21</th>\n",
       "      <th>...</th>\n",
       "      <th>Column44</th>\n",
       "      <th>Column45</th>\n",
       "      <th>Column46</th>\n",
       "      <th>Column47</th>\n",
       "      <th>Column49</th>\n",
       "      <th>Column50</th>\n",
       "      <th>Column51</th>\n",
       "      <th>Column52</th>\n",
       "      <th>Column53</th>\n",
       "      <th>Column67</th>\n",
       "    </tr>\n",
       "  </thead>\n",
       "  <tbody>\n",
       "    <tr>\n",
       "      <th>Total (всего пропусков)</th>\n",
       "      <td>40771</td>\n",
       "      <td>35132</td>\n",
       "      <td>130755</td>\n",
       "      <td>1</td>\n",
       "      <td>35</td>\n",
       "      <td>35</td>\n",
       "      <td>35</td>\n",
       "      <td>35</td>\n",
       "      <td>121330</td>\n",
       "      <td>33863</td>\n",
       "      <td>...</td>\n",
       "      <td>1119</td>\n",
       "      <td>1</td>\n",
       "      <td>1120</td>\n",
       "      <td>1</td>\n",
       "      <td>1</td>\n",
       "      <td>1120</td>\n",
       "      <td>1120</td>\n",
       "      <td>1</td>\n",
       "      <td>1</td>\n",
       "      <td>1</td>\n",
       "    </tr>\n",
       "    <tr>\n",
       "      <th>Percent (процент пропусков)</th>\n",
       "      <td>23.084</td>\n",
       "      <td>19.892</td>\n",
       "      <td>74.033</td>\n",
       "      <td>0.001</td>\n",
       "      <td>0.02</td>\n",
       "      <td>0.02</td>\n",
       "      <td>0.02</td>\n",
       "      <td>0.02</td>\n",
       "      <td>68.696</td>\n",
       "      <td>19.173</td>\n",
       "      <td>...</td>\n",
       "      <td>0.634</td>\n",
       "      <td>0.001</td>\n",
       "      <td>0.634</td>\n",
       "      <td>0.001</td>\n",
       "      <td>0.001</td>\n",
       "      <td>0.634</td>\n",
       "      <td>0.634</td>\n",
       "      <td>0.001</td>\n",
       "      <td>0.001</td>\n",
       "      <td>0.001</td>\n",
       "    </tr>\n",
       "    <tr>\n",
       "      <th>Types (тип данных)</th>\n",
       "      <td>object</td>\n",
       "      <td>float64</td>\n",
       "      <td>float64</td>\n",
       "      <td>float64</td>\n",
       "      <td>float64</td>\n",
       "      <td>float64</td>\n",
       "      <td>float64</td>\n",
       "      <td>float64</td>\n",
       "      <td>float64</td>\n",
       "      <td>float64</td>\n",
       "      <td>...</td>\n",
       "      <td>float64</td>\n",
       "      <td>object</td>\n",
       "      <td>object</td>\n",
       "      <td>object</td>\n",
       "      <td>float64</td>\n",
       "      <td>float64</td>\n",
       "      <td>float64</td>\n",
       "      <td>float64</td>\n",
       "      <td>float64</td>\n",
       "      <td>float64</td>\n",
       "    </tr>\n",
       "  </tbody>\n",
       "</table>\n",
       "<p>3 rows × 39 columns</p>\n",
       "</div>"
      ],
      "text/plain": [
       "                            IsCorrect  Column8 Column13 Column14 Column15  \\\n",
       "Total (всего пропусков)         40771    35132   130755        1       35   \n",
       "Percent (процент пропусков)    23.084   19.892   74.033    0.001     0.02   \n",
       "Types (тип данных)             object  float64  float64  float64  float64   \n",
       "\n",
       "                            Column16 Column17 Column18 Column20 Column21  ...  \\\n",
       "Total (всего пропусков)           35       35       35   121330    33863  ...   \n",
       "Percent (процент пропусков)     0.02     0.02     0.02   68.696   19.173  ...   \n",
       "Types (тип данных)           float64  float64  float64  float64  float64  ...   \n",
       "\n",
       "                            Column44 Column45 Column46 Column47 Column49  \\\n",
       "Total (всего пропусков)         1119        1     1120        1        1   \n",
       "Percent (процент пропусков)    0.634    0.001    0.634    0.001    0.001   \n",
       "Types (тип данных)           float64   object   object   object  float64   \n",
       "\n",
       "                            Column50 Column51 Column52 Column53 Column67  \n",
       "Total (всего пропусков)         1120     1120        1        1        1  \n",
       "Percent (процент пропусков)    0.634    0.634    0.001    0.001    0.001  \n",
       "Types (тип данных)           float64  float64  float64  float64  float64  \n",
       "\n",
       "[3 rows x 39 columns]"
      ]
     },
     "execution_count": 5,
     "metadata": {},
     "output_type": "execute_result"
    }
   ],
   "source": [
    "check_missings(df)"
   ]
  },
  {
   "cell_type": "markdown",
   "metadata": {},
   "source": [
    "#### Feature generation & EDA:"
   ]
  },
  {
   "cell_type": "code",
   "execution_count": 6,
   "metadata": {
    "tags": []
   },
   "outputs": [],
   "source": [
    "#df[\"ValidationDateTime2\"] = pd.to_datetime(df[\"ValidationDateTime\"], errors=\"coerce\")\n",
    "#df[\"ValidationDateTime2\"] = pd.to_datetime(df[\"ValidationDateTime\"], format='coerce')\n",
    "\n",
    "#df[\"ValidationDateTime2\"] = pd.to_datetime(df[\"ValidationDateTime\"], errors=\"coerce\")\n",
    "\n",
    "df[\"ValidationDateTime2\"] = pd.to_datetime(df[\"ValidationDateTime\"], format='mixed')\n",
    "df[\"day_of_week\"] = df[\"ValidationDateTime2\"].dt.dayofweek\n",
    "df[\"hour_of_day\"] = df[\"ValidationDateTime2\"].dt.hour\n",
    "df[\"month\"] = df[\"ValidationDateTime2\"].dt.month\n",
    "df[\"quarter\"] = df[\"ValidationDateTime2\"].dt.quarter\n"
   ]
  },
  {
   "cell_type": "code",
   "execution_count": 7,
   "metadata": {
    "tags": []
   },
   "outputs": [
    {
     "name": "stdout",
     "output_type": "stream",
     "text": [
      "<class 'pandas.core.frame.DataFrame'>\n",
      "RangeIndex: 176618 entries, 0 to 176617\n",
      "Data columns (total 54 columns):\n",
      " #   Column               Non-Null Count   Dtype         \n",
      "---  ------               --------------   -----         \n",
      " 0   LocationId           176618 non-null  int64         \n",
      " 1   ProductId            176618 non-null  int64         \n",
      " 2   ValidationDateTime   176618 non-null  object        \n",
      " 3   IsCorrect            135847 non-null  object        \n",
      " 4   Column6              176618 non-null  float64       \n",
      " 5   Column7              176618 non-null  float64       \n",
      " 6   Column8              141486 non-null  float64       \n",
      " 7   Column11             176618 non-null  float64       \n",
      " 8   Column12             176618 non-null  int64         \n",
      " 9   Column13             45863 non-null   float64       \n",
      " 10  Column14             176617 non-null  float64       \n",
      " 11  Column15             176583 non-null  float64       \n",
      " 12  Column16             176583 non-null  float64       \n",
      " 13  Column17             176583 non-null  float64       \n",
      " 14  Column18             176583 non-null  float64       \n",
      " 15  Column19             176618 non-null  bool          \n",
      " 16  Column20             55288 non-null   float64       \n",
      " 17  Column21             142755 non-null  float64       \n",
      " 18  Column22             55288 non-null   float64       \n",
      " 19  Column23             176595 non-null  float64       \n",
      " 20  Column24             176618 non-null  int64         \n",
      " 21  Column25             176618 non-null  int64         \n",
      " 22  Column27             176305 non-null  float64       \n",
      " 23  Column28             89296 non-null   float64       \n",
      " 24  Column29             176305 non-null  float64       \n",
      " 25  Column30             176617 non-null  float64       \n",
      " 26  Column31             176617 non-null  float64       \n",
      " 27  Column32             176617 non-null  float64       \n",
      " 28  Column33             176617 non-null  float64       \n",
      " 29  Column34             176617 non-null  float64       \n",
      " 30  Column35             176617 non-null  float64       \n",
      " 31  Column36             176617 non-null  float64       \n",
      " 32  Column37             176617 non-null  float64       \n",
      " 33  Column38             176617 non-null  float64       \n",
      " 34  Column39             175499 non-null  float64       \n",
      " 35  Column40             175499 non-null  float64       \n",
      " 36  Column41             175499 non-null  float64       \n",
      " 37  Column42             176617 non-null  float64       \n",
      " 38  Column43             175499 non-null  float64       \n",
      " 39  Column44             175499 non-null  float64       \n",
      " 40  Column45             176617 non-null  object        \n",
      " 41  Column46             175498 non-null  object        \n",
      " 42  Column47             176617 non-null  object        \n",
      " 43  Column49             176617 non-null  float64       \n",
      " 44  Column50             175498 non-null  float64       \n",
      " 45  Column51             175498 non-null  float64       \n",
      " 46  Column52             176617 non-null  float64       \n",
      " 47  Column53             176617 non-null  float64       \n",
      " 48  Column67             176617 non-null  float64       \n",
      " 49  ValidationDateTime2  176618 non-null  datetime64[ns]\n",
      " 50  day_of_week          176618 non-null  int32         \n",
      " 51  hour_of_day          176618 non-null  int32         \n",
      " 52  month                176618 non-null  int32         \n",
      " 53  quarter              176618 non-null  int32         \n",
      "dtypes: bool(1), datetime64[ns](1), float64(38), int32(4), int64(5), object(5)\n",
      "memory usage: 68.9+ MB\n"
     ]
    }
   ],
   "source": [
    "df.info()"
   ]
  },
  {
   "cell_type": "code",
   "execution_count": 8,
   "metadata": {
    "tags": []
   },
   "outputs": [
    {
     "name": "stdout",
     "output_type": "stream",
     "text": [
      "count    176617.000000\n",
      "mean         60.364611\n",
      "std          48.695090\n",
      "min           0.180000\n",
      "25%          25.990000\n",
      "50%          49.990002\n",
      "75%          74.989998\n",
      "max        1650.000000\n",
      "Name: Column53, dtype: float64\n",
      "Column53\n",
      "19.990000     5886\n",
      "69.989998     5844\n",
      "59.990002     5674\n",
      "20.990000     5169\n",
      "29.990000     5010\n",
      "              ... \n",
      "14.580999        1\n",
      "19.823332        1\n",
      "19.944998        1\n",
      "129.830002       1\n",
      "139.732498       1\n",
      "Name: count, Length: 35341, dtype: int64\n"
     ]
    },
    {
     "data": {
      "image/png": "[encoded data removed]",
      "text/plain": [
       "<Figure size 640x480 with 1 Axes>"
      ]
     },
     "metadata": {},
     "output_type": "display_data"
    }
   ],
   "source": [
    "df.boxplot(column=['Column53'])\n",
    "print(df['Column53'].describe())\n",
    "print(df['Column53'].value_counts())\n",
    "#df['Column40'].hist(bins=20)"
   ]
  },
  {
   "cell_type": "code",
   "execution_count": 9,
   "metadata": {
    "tags": []
   },
   "outputs": [
    {
     "data": {
      "text/plain": [
       "Column29\n",
       " 0.0     170263\n",
       " 1.0       5670\n",
       " 2.0        262\n",
       "-1.0         37\n",
       " 3.0         36\n",
       " 4.0         21\n",
       " 8.0          6\n",
       " 9.0          3\n",
       " 6.0          3\n",
       " 14.0         1\n",
       " 5.0          1\n",
       " 7.0          1\n",
       " 18.0         1\n",
       "Name: count, dtype: int64"
      ]
     },
     "execution_count": 9,
     "metadata": {},
     "output_type": "execute_result"
    }
   ],
   "source": [
    "df['Column29'].hist(bins=20)\n",
    "df['Column29'].round().value_counts().head(20)"
   ]
  },
  {
   "cell_type": "code",
   "execution_count": 10,
   "metadata": {
    "tags": []
   },
   "outputs": [
    {
     "data": {
      "text/plain": [
       "0         1\n",
       "1         1\n",
       "2         1\n",
       "3         1\n",
       "4         1\n",
       "         ..\n",
       "176613    2\n",
       "176614    1\n",
       "176615    2\n",
       "176616    1\n",
       "176617    1\n",
       "Name: Column8, Length: 176618, dtype: int64"
      ]
     },
     "execution_count": 10,
     "metadata": {},
     "output_type": "execute_result"
    }
   ],
   "source": [
    "df['Column8'] = df[\"Column8\"].fillna(0)\n",
    "df['Column8'] = df['Column8'].apply(lambda x: 1 if x < 1 else 2 if x < 1.7 else 3)\n",
    "df['Column8']"
   ]
  },
  {
   "cell_type": "code",
   "execution_count": 11,
   "metadata": {
    "tags": []
   },
   "outputs": [
    {
     "data": {
      "text/plain": [
       "0         2\n",
       "1         2\n",
       "2         2\n",
       "3         2\n",
       "4         2\n",
       "         ..\n",
       "176613    2\n",
       "176614    2\n",
       "176615    2\n",
       "176616    2\n",
       "176617    2\n",
       "Name: Column25, Length: 176618, dtype: int64"
      ]
     },
     "execution_count": 11,
     "metadata": {},
     "output_type": "execute_result"
    }
   ],
   "source": [
    "df['Column25'] = df['Column25'].apply(lambda x: 1 if x <2.5 else 2)\n",
    "df['Column25']"
   ]
  },
  {
   "cell_type": "code",
   "execution_count": 12,
   "metadata": {
    "tags": []
   },
   "outputs": [
    {
     "data": {
      "text/plain": [
       "Column27\n",
       "2     119569\n",
       "3      52466\n",
       "10      4583\n",
       "Name: count, dtype: int64"
      ]
     },
     "execution_count": 12,
     "metadata": {},
     "output_type": "execute_result"
    }
   ],
   "source": [
    "df['Column27'] = df[\"Column27\"].fillna(0)\n",
    "df['Column27'] = df['Column27'].round()\n",
    "df['Column27'] = df['Column27'].apply(lambda x: 10 if x >= 10 else 2 if x < 4 else 3)\n",
    "df['Column27'].value_counts()"
   ]
  },
  {
   "cell_type": "code",
   "execution_count": 13,
   "metadata": {
    "tags": []
   },
   "outputs": [],
   "source": [
    "df['Column14'] = df[\"Column14\"].fillna(0)\n",
    "df['Column14'] = df['Column14'].round()\n",
    "df['Column14'] = df['Column14'].astype(int)"
   ]
  },
  {
   "cell_type": "code",
   "execution_count": 14,
   "metadata": {
    "tags": []
   },
   "outputs": [],
   "source": [
    "df['Column15'] = df[\"Column15\"].fillna(0)\n",
    "df['Column15'] = df['Column15'].round()\n",
    "df['Column15'] = df['Column15'].astype(int)"
   ]
  },
  {
   "cell_type": "code",
   "execution_count": 15,
   "metadata": {
    "tags": []
   },
   "outputs": [],
   "source": [
    "df['Column18'] = df[\"Column18\"].fillna(0)\n",
    "df['Column18'] = df['Column18'].round()\n",
    "df['Column18'] = df['Column18'].astype(int)"
   ]
  },
  {
   "cell_type": "code",
   "execution_count": 16,
   "metadata": {
    "tags": []
   },
   "outputs": [],
   "source": [
    "df['Column20'] = df[\"Column20\"].fillna(0)\n",
    "df['Column20'] = df['Column20'].round()\n",
    "df['Column20'] = df['Column20'].astype(int)"
   ]
  },
  {
   "cell_type": "code",
   "execution_count": 17,
   "metadata": {
    "tags": []
   },
   "outputs": [],
   "source": [
    "df['Column21'] = df[\"Column21\"].fillna(0)\n",
    "df['Column21'] = df['Column21'].round()\n",
    "df['Column21'] = df['Column21'].astype(int)"
   ]
  },
  {
   "cell_type": "code",
   "execution_count": 18,
   "metadata": {
    "tags": []
   },
   "outputs": [],
   "source": [
    "df['Column22'] = df[\"Column22\"].fillna(0)\n",
    "df['Column22'] = df['Column22'].round()\n",
    "df['Column22'] = df['Column22'].astype(int)"
   ]
  },
  {
   "cell_type": "code",
   "execution_count": 19,
   "metadata": {
    "tags": []
   },
   "outputs": [],
   "source": [
    "df['Column23'] = df[\"Column23\"].fillna(0)\n",
    "df['Column23'] = df['Column23'].round()\n",
    "df['Column23'] = df['Column23'].astype(int)"
   ]
  },
  {
   "cell_type": "code",
   "execution_count": 20,
   "metadata": {
    "scrolled": true,
    "tags": []
   },
   "outputs": [
    {
     "name": "stdout",
     "output_type": "stream",
     "text": [
      "<class 'pandas.core.frame.DataFrame'>\n",
      "RangeIndex: 176618 entries, 0 to 176617\n",
      "Data columns (total 54 columns):\n",
      " #   Column               Non-Null Count   Dtype         \n",
      "---  ------               --------------   -----         \n",
      " 0   LocationId           176618 non-null  int64         \n",
      " 1   ProductId            176618 non-null  int64         \n",
      " 2   ValidationDateTime   176618 non-null  object        \n",
      " 3   IsCorrect            135847 non-null  object        \n",
      " 4   Column6              176618 non-null  int32         \n",
      " 5   Column7              176618 non-null  int32         \n",
      " 6   Column8              176618 non-null  int32         \n",
      " 7   Column11             176618 non-null  float64       \n",
      " 8   Column12             176618 non-null  int64         \n",
      " 9   Column13             45863 non-null   float64       \n",
      " 10  Column14             176618 non-null  int32         \n",
      " 11  Column15             176618 non-null  int32         \n",
      " 12  Column16             176583 non-null  float64       \n",
      " 13  Column17             176583 non-null  float64       \n",
      " 14  Column18             176618 non-null  int32         \n",
      " 15  Column19             176618 non-null  int32         \n",
      " 16  Column20             176618 non-null  int32         \n",
      " 17  Column21             176618 non-null  int32         \n",
      " 18  Column22             176618 non-null  int32         \n",
      " 19  Column23             176618 non-null  int32         \n",
      " 20  Column24             176618 non-null  int64         \n",
      " 21  Column25             176618 non-null  int64         \n",
      " 22  Column27             176618 non-null  int64         \n",
      " 23  Column28             89296 non-null   float64       \n",
      " 24  Column29             176305 non-null  float64       \n",
      " 25  Column30             176617 non-null  float64       \n",
      " 26  Column31             176617 non-null  float64       \n",
      " 27  Column32             176617 non-null  float64       \n",
      " 28  Column33             176617 non-null  float64       \n",
      " 29  Column34             176617 non-null  float64       \n",
      " 30  Column35             176617 non-null  float64       \n",
      " 31  Column36             176617 non-null  float64       \n",
      " 32  Column37             176617 non-null  float64       \n",
      " 33  Column38             176617 non-null  float64       \n",
      " 34  Column39             175499 non-null  float64       \n",
      " 35  Column40             175499 non-null  float64       \n",
      " 36  Column41             175499 non-null  float64       \n",
      " 37  Column42             176617 non-null  float64       \n",
      " 38  Column43             175499 non-null  float64       \n",
      " 39  Column44             175499 non-null  float64       \n",
      " 40  Column45             176617 non-null  object        \n",
      " 41  Column46             175498 non-null  object        \n",
      " 42  Column47             176617 non-null  object        \n",
      " 43  Column49             176617 non-null  float64       \n",
      " 44  Column50             175498 non-null  float64       \n",
      " 45  Column51             175498 non-null  float64       \n",
      " 46  Column52             176617 non-null  float64       \n",
      " 47  Column53             176617 non-null  float64       \n",
      " 48  Column67             176617 non-null  float64       \n",
      " 49  ValidationDateTime2  176618 non-null  datetime64[ns]\n",
      " 50  day_of_week          176618 non-null  int32         \n",
      " 51  hour_of_day          176618 non-null  int32         \n",
      " 52  month                176618 non-null  int32         \n",
      " 53  quarter              176618 non-null  int32         \n",
      "dtypes: datetime64[ns](1), float64(27), int32(15), int64(6), object(5)\n",
      "memory usage: 62.7+ MB\n"
     ]
    }
   ],
   "source": [
    "df['Column6'] = df['Column6'].astype(int)\n",
    "df['Column7'] = df['Column7'].astype(int)\n",
    "df['Column8'] = df['Column8'].astype(int)\n",
    "df['Column14'] = df['Column14'].astype(int)\n",
    "df['Column19'] = df['Column19'].astype(int)\n",
    "df.info()"
   ]
  },
  {
   "cell_type": "markdown",
   "metadata": {},
   "source": [
    "#### Splitting:"
   ]
  },
  {
   "cell_type": "code",
   "execution_count": 21,
   "metadata": {
    "tags": []
   },
   "outputs": [
    {
     "data": {
      "text/plain": [
       "0.3001244046611261"
      ]
     },
     "execution_count": 21,
     "metadata": {},
     "output_type": "execute_result"
    }
   ],
   "source": [
    "train_df = df[~df['IsCorrect'].isna()]\n",
    "\n",
    "train_df['IsCorrect'] = train_df['IsCorrect'].astype(int)\n",
    "train_df['Column19'] = train_df['Column19'].astype(int)\n",
    "\n",
    "test_df = df[df['IsCorrect'].isna()]\n",
    "\n",
    "test_df.drop('IsCorrect', axis=1, inplace=True)\n",
    "\n",
    "len(test_df) / len(train_df)"
   ]
  },
  {
   "cell_type": "code",
   "execution_count": 22,
   "metadata": {
    "tags": []
   },
   "outputs": [],
   "source": [
    "from sklearn.model_selection import train_test_split\n",
    "train, test = train_test_split(train_df, train_size=0.9, random_state=42, stratify=train_df['IsCorrect'])"
   ]
  },
  {
   "cell_type": "code",
   "execution_count": 23,
   "metadata": {
    "tags": []
   },
   "outputs": [],
   "source": [
    "val, test = train_test_split(test, train_size=0.5, random_state=42, stratify=test['IsCorrect'])"
   ]
  },
  {
   "cell_type": "code",
   "execution_count": 24,
   "metadata": {
    "tags": []
   },
   "outputs": [
    {
     "data": {
      "text/plain": [
       "Index(['ValidationDateTime', 'Column45', 'Column46', 'Column47'], dtype='object')"
      ]
     },
     "execution_count": 24,
     "metadata": {},
     "output_type": "execute_result"
    }
   ],
   "source": [
    "train.select_dtypes(include='object').columns"
   ]
  },
  {
   "cell_type": "markdown",
   "metadata": {},
   "source": [
    "#### Feature selection:"
   ]
  },
  {
   "cell_type": "code",
   "execution_count": 25,
   "metadata": {
    "tags": []
   },
   "outputs": [],
   "source": [
    "X = ['LocationId', 'ProductId', 'ValidationDateTime', 'Column6', 'Column7', 'Column8', 'Column11', 'Column12', 'Column14',\n",
    "        'Column15', 'Column18', \n",
    "     'Column19', \n",
    "     'Column20',\n",
    "        'Column21', 'Column22', 'Column23', 'Column24', 'Column25', 'Column27',\n",
    "        'Column28', 'Column29', 'Column30', 'Column31', 'Column32', 'Column33',\n",
    "        'Column34', 'Column35', 'Column36', 'Column37', 'Column38', 'Column39',\n",
    "        'Column40', 'Column41', 'Column42', 'Column43', 'Column44', 'Column45',\n",
    "        #'Column46', #'Column47', \n",
    "     'Column49', 'Column50', 'Column51', 'Column52',\n",
    "        'Column53', \n",
    "#        'Column59', 'Column60', 'Column61', 'Column62', 'Column63', 'Column64',\n",
    "#        'Column65', 'Column67'\n",
    "     'day_of_week', 'hour_of_day', 'month', 'quarter'\n",
    "    ]\n",
    "\n",
    "cat_features = ['LocationId', 'ProductId',\n",
    "                'ValidationDateTime',\n",
    "                'day_of_week', 'hour_of_day', 'month', 'quarter',\n",
    "                \n",
    "]\n",
    "\n",
    "y = ['IsCorrect']"
   ]
  },
  {
   "cell_type": "markdown",
   "metadata": {},
   "source": [
    "#### Model:"
   ]
  },
  {
   "cell_type": "code",
   "execution_count": 26,
   "metadata": {},
   "outputs": [],
   "source": [
    "params = {\n",
    "        'verbose': 100,\n",
    "        'random_seed': 42,\n",
    "        'learning_rate': 0.1,\n",
    "        'eval_metric': 'AUC',\n",
    "        'cat_features': cat_features, \n",
    "        'iterations':2000\n",
    "}"
   ]
  },
  {
   "cell_type": "code",
   "execution_count": 27,
   "metadata": {
    "tags": []
   },
   "outputs": [],
   "source": [
    "from catboost import CatBoostClassifier\n",
    "\n",
    "model = CatBoostClassifier(**params)"
   ]
  },
  {
   "cell_type": "code",
   "execution_count": 28,
   "metadata": {
    "tags": []
   },
   "outputs": [
    {
     "name": "stdout",
     "output_type": "stream",
     "text": [
      "0:\ttest: 0.7959111\tbest: 0.7959111 (0)\ttotal: 451ms\tremaining: 15m\n",
      "100:\ttest: 0.9154239\tbest: 0.9154239 (100)\ttotal: 40.4s\tremaining: 12m 39s\n",
      "200:\ttest: 0.9203397\tbest: 0.9203397 (200)\ttotal: 1m 11s\tremaining: 10m 38s\n",
      "300:\ttest: 0.9220589\tbest: 0.9220589 (300)\ttotal: 1m 41s\tremaining: 9m 31s\n",
      "400:\ttest: 0.9227486\tbest: 0.9227486 (400)\ttotal: 2m 11s\tremaining: 8m 42s\n",
      "500:\ttest: 0.9232400\tbest: 0.9232400 (500)\ttotal: 2m 43s\tremaining: 8m 7s\n",
      "600:\ttest: 0.9237685\tbest: 0.9237685 (600)\ttotal: 3m 12s\tremaining: 7m 27s\n",
      "700:\ttest: 0.9241760\tbest: 0.9241864 (661)\ttotal: 3m 41s\tremaining: 6m 50s\n",
      "800:\ttest: 0.9245073\tbest: 0.9245579 (798)\ttotal: 4m 11s\tremaining: 6m 16s\n",
      "900:\ttest: 0.9249005\tbest: 0.9249275 (898)\ttotal: 4m 40s\tremaining: 5m 42s\n",
      "1000:\ttest: 0.9247960\tbest: 0.9249284 (902)\ttotal: 5m 15s\tremaining: 5m 14s\n",
      "1100:\ttest: 0.9249557\tbest: 0.9249557 (1100)\ttotal: 5m 44s\tremaining: 4m 41s\n",
      "1200:\ttest: 0.9248622\tbest: 0.9249786 (1108)\ttotal: 6m 14s\tremaining: 4m 8s\n",
      "1300:\ttest: 0.9250355\tbest: 0.9251916 (1252)\ttotal: 6m 43s\tremaining: 3m 36s\n",
      "1400:\ttest: 0.9251475\tbest: 0.9253143 (1374)\ttotal: 7m 13s\tremaining: 3m 5s\n",
      "1500:\ttest: 0.9254869\tbest: 0.9254991 (1499)\ttotal: 7m 43s\tremaining: 2m 34s\n",
      "1600:\ttest: 0.9254359\tbest: 0.9255926 (1574)\ttotal: 8m 16s\tremaining: 2m 3s\n",
      "1700:\ttest: 0.9253183\tbest: 0.9255926 (1574)\ttotal: 8m 54s\tremaining: 1m 33s\n",
      "1800:\ttest: 0.9252059\tbest: 0.9255926 (1574)\ttotal: 9m 32s\tremaining: 1m 3s\n",
      "1900:\ttest: 0.9253255\tbest: 0.9255926 (1574)\ttotal: 10m 3s\tremaining: 31.4s\n",
      "1999:\ttest: 0.9253704\tbest: 0.9255926 (1574)\ttotal: 10m 34s\tremaining: 0us\n",
      "\n",
      "bestTest = 0.9255925936\n",
      "bestIteration = 1574\n",
      "\n",
      "Shrink model to first 1575 iterations.\n"
     ]
    },
    {
     "data": {
      "text/plain": [
       "<catboost.core.CatBoostClassifier at 0x1b0b26d5450>"
      ]
     },
     "execution_count": 28,
     "metadata": {},
     "output_type": "execute_result"
    }
   ],
   "source": [
    "model.fit(train[X], train[y], eval_set=(val[X], val[y]))"
   ]
  },
  {
   "cell_type": "code",
   "execution_count": 29,
   "metadata": {
    "tags": []
   },
   "outputs": [],
   "source": [
    "test['preds'] = model.predict(test[X])"
   ]
  },
  {
   "cell_type": "code",
   "execution_count": 30,
   "metadata": {
    "tags": []
   },
   "outputs": [
    {
     "data": {
      "text/plain": [
       "0.8251743741639594"
      ]
     },
     "execution_count": 30,
     "metadata": {},
     "output_type": "execute_result"
    }
   ],
   "source": [
    "from sklearn.metrics import roc_auc_score\n",
    "roc_auc_score(test['IsCorrect'], test['preds'])"
   ]
  },
  {
   "cell_type": "code",
   "execution_count": 31,
   "metadata": {
    "tags": []
   },
   "outputs": [],
   "source": [
    "a = model.get_feature_importance(prettified=True)"
   ]
  },
  {
   "cell_type": "code",
   "execution_count": 43,
   "metadata": {},
   "outputs": [
    {
     "data": {
      "image/png": "[encoded data removed]",
      "text/plain": [
       "<Figure size 640x480 with 1 Axes>"
      ]
     },
     "metadata": {},
     "output_type": "display_data"
    }
   ],
   "source": [
    "import matplotlib.pyplot as plt\n",
    "import seaborn as sns\n",
    "\n",
    "\n",
    "sns.barplot(x = a['Importances'], y = a['Feature Id'].head(10), orient = 'h', color = \"green\")\n",
    "plt.xlabel('Значимость фактора')\n",
    "plt.xticks(rotation = 30)\n",
    "plt.ylabel('Фактор')\n",
    "plt.title('Топ-10 наиболее важных факторов')\n",
    "plt.show()"
   ]
  },
  {
   "cell_type": "markdown",
   "metadata": {},
   "source": [
    "#### ROC_AUC: 0.825"
   ]
  },
  {
   "cell_type": "markdown",
   "metadata": {},
   "source": [
    "#### Prediction:"
   ]
  },
  {
   "cell_type": "code",
   "execution_count": 32,
   "metadata": {
    "scrolled": true
   },
   "outputs": [
    {
     "data": {
      "text/html": [
       "<div>\n",
       "<style scoped>\n",
       "    .dataframe tbody tr th:only-of-type {\n",
       "        vertical-align: middle;\n",
       "    }\n",
       "\n",
       "    .dataframe tbody tr th {\n",
       "        vertical-align: top;\n",
       "    }\n",
       "\n",
       "    .dataframe thead th {\n",
       "        text-align: right;\n",
       "    }\n",
       "</style>\n",
       "<table border=\"1\" class=\"dataframe\">\n",
       "  <thead>\n",
       "    <tr style=\"text-align: right;\">\n",
       "      <th></th>\n",
       "      <th>LocationId</th>\n",
       "      <th>ProductId</th>\n",
       "      <th>ValidationDateTime</th>\n",
       "      <th>Column6</th>\n",
       "      <th>Column7</th>\n",
       "      <th>Column8</th>\n",
       "      <th>Column11</th>\n",
       "      <th>Column12</th>\n",
       "      <th>Column13</th>\n",
       "      <th>Column14</th>\n",
       "      <th>...</th>\n",
       "      <th>Column50</th>\n",
       "      <th>Column51</th>\n",
       "      <th>Column52</th>\n",
       "      <th>Column53</th>\n",
       "      <th>Column67</th>\n",
       "      <th>ValidationDateTime2</th>\n",
       "      <th>day_of_week</th>\n",
       "      <th>hour_of_day</th>\n",
       "      <th>month</th>\n",
       "      <th>quarter</th>\n",
       "    </tr>\n",
       "  </thead>\n",
       "  <tbody>\n",
       "    <tr>\n",
       "      <th>11</th>\n",
       "      <td>63</td>\n",
       "      <td>288606</td>\n",
       "      <td>2023-07-25 14:57:04.000</td>\n",
       "      <td>14</td>\n",
       "      <td>13</td>\n",
       "      <td>1</td>\n",
       "      <td>3.071429</td>\n",
       "      <td>15</td>\n",
       "      <td>NaN</td>\n",
       "      <td>30</td>\n",
       "      <td>...</td>\n",
       "      <td>0.0</td>\n",
       "      <td>1.0</td>\n",
       "      <td>0.0</td>\n",
       "      <td>29.990000</td>\n",
       "      <td>0.0</td>\n",
       "      <td>2023-07-25 14:57:04</td>\n",
       "      <td>1</td>\n",
       "      <td>14</td>\n",
       "      <td>7</td>\n",
       "      <td>3</td>\n",
       "    </tr>\n",
       "    <tr>\n",
       "      <th>12</th>\n",
       "      <td>63</td>\n",
       "      <td>288606</td>\n",
       "      <td>2023-08-03 14:58:53.000</td>\n",
       "      <td>2</td>\n",
       "      <td>1</td>\n",
       "      <td>1</td>\n",
       "      <td>1.392857</td>\n",
       "      <td>11</td>\n",
       "      <td>NaN</td>\n",
       "      <td>30</td>\n",
       "      <td>...</td>\n",
       "      <td>1.0</td>\n",
       "      <td>-1.0</td>\n",
       "      <td>0.0</td>\n",
       "      <td>29.990000</td>\n",
       "      <td>0.0</td>\n",
       "      <td>2023-08-03 14:58:53</td>\n",
       "      <td>3</td>\n",
       "      <td>14</td>\n",
       "      <td>8</td>\n",
       "      <td>3</td>\n",
       "    </tr>\n",
       "    <tr>\n",
       "      <th>14</th>\n",
       "      <td>63</td>\n",
       "      <td>288783</td>\n",
       "      <td>2023-07-24 14:57:11.000</td>\n",
       "      <td>4</td>\n",
       "      <td>4</td>\n",
       "      <td>1</td>\n",
       "      <td>2.000000</td>\n",
       "      <td>16</td>\n",
       "      <td>NaN</td>\n",
       "      <td>100</td>\n",
       "      <td>...</td>\n",
       "      <td>0.0</td>\n",
       "      <td>1.0</td>\n",
       "      <td>0.0</td>\n",
       "      <td>99.989998</td>\n",
       "      <td>0.0</td>\n",
       "      <td>2023-07-24 14:57:11</td>\n",
       "      <td>0</td>\n",
       "      <td>14</td>\n",
       "      <td>7</td>\n",
       "      <td>3</td>\n",
       "    </tr>\n",
       "    <tr>\n",
       "      <th>15</th>\n",
       "      <td>63</td>\n",
       "      <td>288783</td>\n",
       "      <td>2023-08-03 14:57:39.000</td>\n",
       "      <td>0</td>\n",
       "      <td>-1</td>\n",
       "      <td>1</td>\n",
       "      <td>1.964286</td>\n",
       "      <td>18</td>\n",
       "      <td>NaN</td>\n",
       "      <td>100</td>\n",
       "      <td>...</td>\n",
       "      <td>0.0</td>\n",
       "      <td>1.0</td>\n",
       "      <td>0.0</td>\n",
       "      <td>99.989998</td>\n",
       "      <td>0.0</td>\n",
       "      <td>2023-08-03 14:57:39</td>\n",
       "      <td>3</td>\n",
       "      <td>14</td>\n",
       "      <td>8</td>\n",
       "      <td>3</td>\n",
       "    </tr>\n",
       "    <tr>\n",
       "      <th>24</th>\n",
       "      <td>63</td>\n",
       "      <td>289136</td>\n",
       "      <td>2023-07-24 14:57:09.000</td>\n",
       "      <td>6</td>\n",
       "      <td>6</td>\n",
       "      <td>1</td>\n",
       "      <td>1.357143</td>\n",
       "      <td>13</td>\n",
       "      <td>NaN</td>\n",
       "      <td>30</td>\n",
       "      <td>...</td>\n",
       "      <td>1.0</td>\n",
       "      <td>0.0</td>\n",
       "      <td>1.0</td>\n",
       "      <td>29.990000</td>\n",
       "      <td>0.0</td>\n",
       "      <td>2023-07-24 14:57:09</td>\n",
       "      <td>0</td>\n",
       "      <td>14</td>\n",
       "      <td>7</td>\n",
       "      <td>3</td>\n",
       "    </tr>\n",
       "    <tr>\n",
       "      <th>...</th>\n",
       "      <td>...</td>\n",
       "      <td>...</td>\n",
       "      <td>...</td>\n",
       "      <td>...</td>\n",
       "      <td>...</td>\n",
       "      <td>...</td>\n",
       "      <td>...</td>\n",
       "      <td>...</td>\n",
       "      <td>...</td>\n",
       "      <td>...</td>\n",
       "      <td>...</td>\n",
       "      <td>...</td>\n",
       "      <td>...</td>\n",
       "      <td>...</td>\n",
       "      <td>...</td>\n",
       "      <td>...</td>\n",
       "      <td>...</td>\n",
       "      <td>...</td>\n",
       "      <td>...</td>\n",
       "      <td>...</td>\n",
       "      <td>...</td>\n",
       "    </tr>\n",
       "    <tr>\n",
       "      <th>176604</th>\n",
       "      <td>2950</td>\n",
       "      <td>572875</td>\n",
       "      <td>2023-07-26 15:01:26</td>\n",
       "      <td>19</td>\n",
       "      <td>18</td>\n",
       "      <td>1</td>\n",
       "      <td>3.785714</td>\n",
       "      <td>25</td>\n",
       "      <td>NaN</td>\n",
       "      <td>108</td>\n",
       "      <td>...</td>\n",
       "      <td>0.0</td>\n",
       "      <td>0.0</td>\n",
       "      <td>1.0</td>\n",
       "      <td>107.900002</td>\n",
       "      <td>0.0</td>\n",
       "      <td>2023-07-26 15:01:26</td>\n",
       "      <td>2</td>\n",
       "      <td>15</td>\n",
       "      <td>7</td>\n",
       "      <td>3</td>\n",
       "    </tr>\n",
       "    <tr>\n",
       "      <th>176610</th>\n",
       "      <td>2950</td>\n",
       "      <td>574768</td>\n",
       "      <td>2023-07-31 15:07:00</td>\n",
       "      <td>10</td>\n",
       "      <td>9</td>\n",
       "      <td>1</td>\n",
       "      <td>1.321429</td>\n",
       "      <td>4</td>\n",
       "      <td>NaN</td>\n",
       "      <td>26</td>\n",
       "      <td>...</td>\n",
       "      <td>1.0</td>\n",
       "      <td>-1.0</td>\n",
       "      <td>0.0</td>\n",
       "      <td>26.490000</td>\n",
       "      <td>0.0</td>\n",
       "      <td>2023-07-31 15:07:00</td>\n",
       "      <td>0</td>\n",
       "      <td>15</td>\n",
       "      <td>7</td>\n",
       "      <td>3</td>\n",
       "    </tr>\n",
       "    <tr>\n",
       "      <th>176615</th>\n",
       "      <td>2950</td>\n",
       "      <td>576631</td>\n",
       "      <td>2023-07-26 15:01:27</td>\n",
       "      <td>1</td>\n",
       "      <td>0</td>\n",
       "      <td>2</td>\n",
       "      <td>3.571429</td>\n",
       "      <td>28</td>\n",
       "      <td>NaN</td>\n",
       "      <td>140</td>\n",
       "      <td>...</td>\n",
       "      <td>0.0</td>\n",
       "      <td>1.0</td>\n",
       "      <td>0.0</td>\n",
       "      <td>139.899994</td>\n",
       "      <td>0.0</td>\n",
       "      <td>2023-07-26 15:01:27</td>\n",
       "      <td>2</td>\n",
       "      <td>15</td>\n",
       "      <td>7</td>\n",
       "      <td>3</td>\n",
       "    </tr>\n",
       "    <tr>\n",
       "      <th>176616</th>\n",
       "      <td>2950</td>\n",
       "      <td>576631</td>\n",
       "      <td>2023-07-28 15:04:19</td>\n",
       "      <td>3</td>\n",
       "      <td>2</td>\n",
       "      <td>1</td>\n",
       "      <td>3.607143</td>\n",
       "      <td>28</td>\n",
       "      <td>NaN</td>\n",
       "      <td>140</td>\n",
       "      <td>...</td>\n",
       "      <td>0.0</td>\n",
       "      <td>1.0</td>\n",
       "      <td>0.0</td>\n",
       "      <td>139.684998</td>\n",
       "      <td>0.0</td>\n",
       "      <td>2023-07-28 15:04:19</td>\n",
       "      <td>4</td>\n",
       "      <td>15</td>\n",
       "      <td>7</td>\n",
       "      <td>3</td>\n",
       "    </tr>\n",
       "    <tr>\n",
       "      <th>176617</th>\n",
       "      <td>2950</td>\n",
       "      <td>576631</td>\n",
       "      <td>2023-07-31 15:06:58</td>\n",
       "      <td>6</td>\n",
       "      <td>6</td>\n",
       "      <td>1</td>\n",
       "      <td>3.857143</td>\n",
       "      <td>28</td>\n",
       "      <td>NaN</td>\n",
       "      <td>140</td>\n",
       "      <td>...</td>\n",
       "      <td>0.0</td>\n",
       "      <td>0.0</td>\n",
       "      <td>1.0</td>\n",
       "      <td>139.732498</td>\n",
       "      <td>0.0</td>\n",
       "      <td>2023-07-31 15:06:58</td>\n",
       "      <td>0</td>\n",
       "      <td>15</td>\n",
       "      <td>7</td>\n",
       "      <td>3</td>\n",
       "    </tr>\n",
       "  </tbody>\n",
       "</table>\n",
       "<p>40771 rows × 53 columns</p>\n",
       "</div>"
      ],
      "text/plain": [
       "        LocationId  ProductId       ValidationDateTime  Column6  Column7  \\\n",
       "11              63     288606  2023-07-25 14:57:04.000       14       13   \n",
       "12              63     288606  2023-08-03 14:58:53.000        2        1   \n",
       "14              63     288783  2023-07-24 14:57:11.000        4        4   \n",
       "15              63     288783  2023-08-03 14:57:39.000        0       -1   \n",
       "24              63     289136  2023-07-24 14:57:09.000        6        6   \n",
       "...            ...        ...                      ...      ...      ...   \n",
       "176604        2950     572875      2023-07-26 15:01:26       19       18   \n",
       "176610        2950     574768      2023-07-31 15:07:00       10        9   \n",
       "176615        2950     576631      2023-07-26 15:01:27        1        0   \n",
       "176616        2950     576631      2023-07-28 15:04:19        3        2   \n",
       "176617        2950     576631      2023-07-31 15:06:58        6        6   \n",
       "\n",
       "        Column8  Column11  Column12  Column13  Column14  ...  Column50  \\\n",
       "11            1  3.071429        15       NaN        30  ...       0.0   \n",
       "12            1  1.392857        11       NaN        30  ...       1.0   \n",
       "14            1  2.000000        16       NaN       100  ...       0.0   \n",
       "15            1  1.964286        18       NaN       100  ...       0.0   \n",
       "24            1  1.357143        13       NaN        30  ...       1.0   \n",
       "...         ...       ...       ...       ...       ...  ...       ...   \n",
       "176604        1  3.785714        25       NaN       108  ...       0.0   \n",
       "176610        1  1.321429         4       NaN        26  ...       1.0   \n",
       "176615        2  3.571429        28       NaN       140  ...       0.0   \n",
       "176616        1  3.607143        28       NaN       140  ...       0.0   \n",
       "176617        1  3.857143        28       NaN       140  ...       0.0   \n",
       "\n",
       "        Column51  Column52    Column53  Column67  ValidationDateTime2  \\\n",
       "11           1.0       0.0   29.990000       0.0  2023-07-25 14:57:04   \n",
       "12          -1.0       0.0   29.990000       0.0  2023-08-03 14:58:53   \n",
       "14           1.0       0.0   99.989998       0.0  2023-07-24 14:57:11   \n",
       "15           1.0       0.0   99.989998       0.0  2023-08-03 14:57:39   \n",
       "24           0.0       1.0   29.990000       0.0  2023-07-24 14:57:09   \n",
       "...          ...       ...         ...       ...                  ...   \n",
       "176604       0.0       1.0  107.900002       0.0  2023-07-26 15:01:26   \n",
       "176610      -1.0       0.0   26.490000       0.0  2023-07-31 15:07:00   \n",
       "176615       1.0       0.0  139.899994       0.0  2023-07-26 15:01:27   \n",
       "176616       1.0       0.0  139.684998       0.0  2023-07-28 15:04:19   \n",
       "176617       0.0       1.0  139.732498       0.0  2023-07-31 15:06:58   \n",
       "\n",
       "        day_of_week  hour_of_day  month  quarter  \n",
       "11                1           14      7        3  \n",
       "12                3           14      8        3  \n",
       "14                0           14      7        3  \n",
       "15                3           14      8        3  \n",
       "24                0           14      7        3  \n",
       "...             ...          ...    ...      ...  \n",
       "176604            2           15      7        3  \n",
       "176610            0           15      7        3  \n",
       "176615            2           15      7        3  \n",
       "176616            4           15      7        3  \n",
       "176617            0           15      7        3  \n",
       "\n",
       "[40771 rows x 53 columns]"
      ]
     },
     "execution_count": 32,
     "metadata": {},
     "output_type": "execute_result"
    }
   ],
   "source": [
    "test_df"
   ]
  },
  {
   "cell_type": "code",
   "execution_count": 33,
   "metadata": {},
   "outputs": [
    {
     "data": {
      "text/plain": [
       "40771"
      ]
     },
     "execution_count": 33,
     "metadata": {},
     "output_type": "execute_result"
    }
   ],
   "source": [
    "len(test_df)"
   ]
  },
  {
   "cell_type": "code",
   "execution_count": 34,
   "metadata": {},
   "outputs": [],
   "source": [
    "test_df['CalculatedProbability'] = model.predict_proba(test_df[X])[:, 1]"
   ]
  },
  {
   "cell_type": "code",
   "execution_count": 35,
   "metadata": {},
   "outputs": [
    {
     "data": {
      "text/html": [
       "<div>\n",
       "<style scoped>\n",
       "    .dataframe tbody tr th:only-of-type {\n",
       "        vertical-align: middle;\n",
       "    }\n",
       "\n",
       "    .dataframe tbody tr th {\n",
       "        vertical-align: top;\n",
       "    }\n",
       "\n",
       "    .dataframe thead th {\n",
       "        text-align: right;\n",
       "    }\n",
       "</style>\n",
       "<table border=\"1\" class=\"dataframe\">\n",
       "  <thead>\n",
       "    <tr style=\"text-align: right;\">\n",
       "      <th></th>\n",
       "      <th>LocationId</th>\n",
       "      <th>ProductId</th>\n",
       "      <th>ValidationDateTime</th>\n",
       "      <th>CalculatedProbability</th>\n",
       "    </tr>\n",
       "  </thead>\n",
       "  <tbody>\n",
       "    <tr>\n",
       "      <th>11</th>\n",
       "      <td>63</td>\n",
       "      <td>288606</td>\n",
       "      <td>2023-07-25 14:57:04.000</td>\n",
       "      <td>0.830523</td>\n",
       "    </tr>\n",
       "    <tr>\n",
       "      <th>12</th>\n",
       "      <td>63</td>\n",
       "      <td>288606</td>\n",
       "      <td>2023-08-03 14:58:53.000</td>\n",
       "      <td>0.692732</td>\n",
       "    </tr>\n",
       "    <tr>\n",
       "      <th>14</th>\n",
       "      <td>63</td>\n",
       "      <td>288783</td>\n",
       "      <td>2023-07-24 14:57:11.000</td>\n",
       "      <td>0.336474</td>\n",
       "    </tr>\n",
       "    <tr>\n",
       "      <th>15</th>\n",
       "      <td>63</td>\n",
       "      <td>288783</td>\n",
       "      <td>2023-08-03 14:57:39.000</td>\n",
       "      <td>0.681103</td>\n",
       "    </tr>\n",
       "    <tr>\n",
       "      <th>24</th>\n",
       "      <td>63</td>\n",
       "      <td>289136</td>\n",
       "      <td>2023-07-24 14:57:09.000</td>\n",
       "      <td>0.229317</td>\n",
       "    </tr>\n",
       "    <tr>\n",
       "      <th>...</th>\n",
       "      <td>...</td>\n",
       "      <td>...</td>\n",
       "      <td>...</td>\n",
       "      <td>...</td>\n",
       "    </tr>\n",
       "    <tr>\n",
       "      <th>176604</th>\n",
       "      <td>2950</td>\n",
       "      <td>572875</td>\n",
       "      <td>2023-07-26 15:01:26</td>\n",
       "      <td>0.486380</td>\n",
       "    </tr>\n",
       "    <tr>\n",
       "      <th>176610</th>\n",
       "      <td>2950</td>\n",
       "      <td>574768</td>\n",
       "      <td>2023-07-31 15:07:00</td>\n",
       "      <td>0.393879</td>\n",
       "    </tr>\n",
       "    <tr>\n",
       "      <th>176615</th>\n",
       "      <td>2950</td>\n",
       "      <td>576631</td>\n",
       "      <td>2023-07-26 15:01:27</td>\n",
       "      <td>0.644335</td>\n",
       "    </tr>\n",
       "    <tr>\n",
       "      <th>176616</th>\n",
       "      <td>2950</td>\n",
       "      <td>576631</td>\n",
       "      <td>2023-07-28 15:04:19</td>\n",
       "      <td>0.660453</td>\n",
       "    </tr>\n",
       "    <tr>\n",
       "      <th>176617</th>\n",
       "      <td>2950</td>\n",
       "      <td>576631</td>\n",
       "      <td>2023-07-31 15:06:58</td>\n",
       "      <td>0.337121</td>\n",
       "    </tr>\n",
       "  </tbody>\n",
       "</table>\n",
       "<p>40771 rows × 4 columns</p>\n",
       "</div>"
      ],
      "text/plain": [
       "        LocationId  ProductId       ValidationDateTime  CalculatedProbability\n",
       "11              63     288606  2023-07-25 14:57:04.000               0.830523\n",
       "12              63     288606  2023-08-03 14:58:53.000               0.692732\n",
       "14              63     288783  2023-07-24 14:57:11.000               0.336474\n",
       "15              63     288783  2023-08-03 14:57:39.000               0.681103\n",
       "24              63     289136  2023-07-24 14:57:09.000               0.229317\n",
       "...            ...        ...                      ...                    ...\n",
       "176604        2950     572875      2023-07-26 15:01:26               0.486380\n",
       "176610        2950     574768      2023-07-31 15:07:00               0.393879\n",
       "176615        2950     576631      2023-07-26 15:01:27               0.644335\n",
       "176616        2950     576631      2023-07-28 15:04:19               0.660453\n",
       "176617        2950     576631      2023-07-31 15:06:58               0.337121\n",
       "\n",
       "[40771 rows x 4 columns]"
      ]
     },
     "execution_count": 35,
     "metadata": {},
     "output_type": "execute_result"
    }
   ],
   "source": [
    "df_submission = test_df.loc[:, ['LocationId', 'ProductId', 'ValidationDateTime', 'CalculatedProbability']]\n",
    "\n",
    "df_submission"
   ]
  },
  {
   "cell_type": "code",
   "execution_count": 36,
   "metadata": {},
   "outputs": [
    {
     "data": {
      "text/plain": [
       "40771"
      ]
     },
     "execution_count": 36,
     "metadata": {},
     "output_type": "execute_result"
    }
   ],
   "source": [
    "len(df_submission)"
   ]
  },
  {
   "cell_type": "code",
   "execution_count": 37,
   "metadata": {
    "scrolled": true
   },
   "outputs": [
    {
     "data": {
      "text/plain": [
       "True"
      ]
     },
     "execution_count": 37,
     "metadata": {},
     "output_type": "execute_result"
    }
   ],
   "source": [
    "# проверка соответствия размерности: \n",
    "\n",
    "len(test_df) == len(df_submission)"
   ]
  },
  {
   "cell_type": "markdown",
   "metadata": {},
   "source": [
    "#### Submition: "
   ]
  },
  {
   "cell_type": "code",
   "execution_count": 38,
   "metadata": {},
   "outputs": [],
   "source": [
    "df_submission.to_csv('123456_1.csv', sep=';', index=False)"
   ]
  }
 ],
 "metadata": {
  "kernelspec": {
   "display_name": "Python 3 (ipykernel)",
   "language": "python",
   "name": "python3"
  },
  "language_info": {
   "codemirror_mode": {
    "name": "ipython",
    "version": 3
   },
   "file_extension": ".py",
   "mimetype": "text/x-python",
   "name": "python",
   "nbconvert_exporter": "python",
   "pygments_lexer": "ipython3",
   "version": "3.10.11"
  }
 },
 "nbformat": 4,
 "nbformat_minor": 4
}
